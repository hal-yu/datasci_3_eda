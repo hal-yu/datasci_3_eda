{
  "nbformat": 4,
  "nbformat_minor": 0,
  "metadata": {
    "colab": {
      "provenance": [],
      "authorship_tag": "ABX9TyNNF0ZzFJ4IirxwkPjrjt8d",
      "include_colab_link": true
    },
    "kernelspec": {
      "name": "python3",
      "display_name": "Python 3"
    },
    "language_info": {
      "name": "python"
    }
  },
  "cells": [
    {
      "cell_type": "markdown",
      "metadata": {
        "id": "view-in-github",
        "colab_type": "text"
      },
      "source": [
        "<a href=\"https://colab.research.google.com/github/hal-yu/datasci_3_eda/blob/main/HHA507_W3_EDA.ipynb\" target=\"_parent\"><img src=\"https://colab.research.google.com/assets/colab-badge.svg\" alt=\"Open In Colab\"/></a>"
      ]
    },
    {
      "cell_type": "markdown",
      "source": [
        "# Week 3 Exploratory Data Analysis\n",
        "\n",
        "Engage in the critical phase of Exploratory Data Analysis (EDA) using the tools and techniques from Python to uncover patterns, spot anomalies, test hypotheses, and identify the main structures of your dataset."
      ],
      "metadata": {
        "id": "sZEwIYYA2OT4"
      }
    },
    {
      "cell_type": "markdown",
      "source": [
        "## Univariate Analysis\n",
        "1. Load a dataset of your choice in your Colab notebook .ipynb or in a python script .py (you can use one from previous assignments or find a new one).\n",
        "2. Manually perform a univariate analysis to understand the distribution of each variable. This includes calculating measures of central tendency (mean, median, mode) and measures of spread (range, variance, standard deviation, IQR).\n",
        "3. Visualize the distribution of select numerical variables using histograms."
      ],
      "metadata": {
        "id": "5EbH1Oum2YDe"
      }
    },
    {
      "cell_type": "markdown",
      "source": [
        "### Cleaning Data"
      ],
      "metadata": {
        "id": "DX_shCOw7ux2"
      }
    },
    {
      "cell_type": "code",
      "execution_count": 99,
      "metadata": {
        "id": "cS_d-y9e23Cv"
      },
      "outputs": [],
      "source": [
        "### Loading in packages\n",
        "import pandas as pd"
      ]
    },
    {
      "cell_type": "code",
      "source": [
        "### Load in data\n",
        "df = pd.read_csv('sleep_lifestyle_dataset.csv')"
      ],
      "metadata": {
        "id": "l5-zau4j455h"
      },
      "execution_count": 100,
      "outputs": []
    },
    {
      "cell_type": "code",
      "source": [
        "df"
      ],
      "metadata": {
        "colab": {
          "base_uri": "https://localhost:8080/",
          "height": 475
        },
        "id": "VFatMu74042W",
        "outputId": "241a48cf-5e7c-44ed-b57f-0274abad7112"
      },
      "execution_count": 101,
      "outputs": [
        {
          "output_type": "execute_result",
          "data": {
            "text/plain": [
              "     Person ID  Gender  Age            Occupation  Sleep Duration  \\\n",
              "0            1    Male   27     Software Engineer             6.1   \n",
              "1            2    Male   28                Doctor             6.2   \n",
              "2            3    Male   28                Doctor             6.2   \n",
              "3            4    Male   28  Sales Representative             5.9   \n",
              "4            5    Male   28  Sales Representative             5.9   \n",
              "..         ...     ...  ...                   ...             ...   \n",
              "369        370  Female   59                 Nurse             8.1   \n",
              "370        371  Female   59                 Nurse             8.0   \n",
              "371        372  Female   59                 Nurse             8.1   \n",
              "372        373  Female   59                 Nurse             8.1   \n",
              "373        374  Female   59                 Nurse             8.1   \n",
              "\n",
              "     Quality of Sleep  Physical Activity Level  Stress Level BMI Category  \\\n",
              "0                   6                       42             6   Overweight   \n",
              "1                   6                       60             8       Normal   \n",
              "2                   6                       60             8       Normal   \n",
              "3                   4                       30             8        Obese   \n",
              "4                   4                       30             8        Obese   \n",
              "..                ...                      ...           ...          ...   \n",
              "369                 9                       75             3   Overweight   \n",
              "370                 9                       75             3   Overweight   \n",
              "371                 9                       75             3   Overweight   \n",
              "372                 9                       75             3   Overweight   \n",
              "373                 9                       75             3   Overweight   \n",
              "\n",
              "    Blood Pressure  Heart Rate  Daily Steps Sleep Disorder  \n",
              "0           126/83          77         4200           None  \n",
              "1           125/80          75        10000           None  \n",
              "2           125/80          75        10000           None  \n",
              "3           140/90          85         3000    Sleep Apnea  \n",
              "4           140/90          85         3000    Sleep Apnea  \n",
              "..             ...         ...          ...            ...  \n",
              "369         140/95          68         7000    Sleep Apnea  \n",
              "370         140/95          68         7000    Sleep Apnea  \n",
              "371         140/95          68         7000    Sleep Apnea  \n",
              "372         140/95          68         7000    Sleep Apnea  \n",
              "373         140/95          68         7000    Sleep Apnea  \n",
              "\n",
              "[374 rows x 13 columns]"
            ],
            "text/html": [
              "\n",
              "  <div id=\"df-bd2e0178-c3e5-4946-80ea-0b59abdf8317\" class=\"colab-df-container\">\n",
              "    <div>\n",
              "<style scoped>\n",
              "    .dataframe tbody tr th:only-of-type {\n",
              "        vertical-align: middle;\n",
              "    }\n",
              "\n",
              "    .dataframe tbody tr th {\n",
              "        vertical-align: top;\n",
              "    }\n",
              "\n",
              "    .dataframe thead th {\n",
              "        text-align: right;\n",
              "    }\n",
              "</style>\n",
              "<table border=\"1\" class=\"dataframe\">\n",
              "  <thead>\n",
              "    <tr style=\"text-align: right;\">\n",
              "      <th></th>\n",
              "      <th>Person ID</th>\n",
              "      <th>Gender</th>\n",
              "      <th>Age</th>\n",
              "      <th>Occupation</th>\n",
              "      <th>Sleep Duration</th>\n",
              "      <th>Quality of Sleep</th>\n",
              "      <th>Physical Activity Level</th>\n",
              "      <th>Stress Level</th>\n",
              "      <th>BMI Category</th>\n",
              "      <th>Blood Pressure</th>\n",
              "      <th>Heart Rate</th>\n",
              "      <th>Daily Steps</th>\n",
              "      <th>Sleep Disorder</th>\n",
              "    </tr>\n",
              "  </thead>\n",
              "  <tbody>\n",
              "    <tr>\n",
              "      <th>0</th>\n",
              "      <td>1</td>\n",
              "      <td>Male</td>\n",
              "      <td>27</td>\n",
              "      <td>Software Engineer</td>\n",
              "      <td>6.1</td>\n",
              "      <td>6</td>\n",
              "      <td>42</td>\n",
              "      <td>6</td>\n",
              "      <td>Overweight</td>\n",
              "      <td>126/83</td>\n",
              "      <td>77</td>\n",
              "      <td>4200</td>\n",
              "      <td>None</td>\n",
              "    </tr>\n",
              "    <tr>\n",
              "      <th>1</th>\n",
              "      <td>2</td>\n",
              "      <td>Male</td>\n",
              "      <td>28</td>\n",
              "      <td>Doctor</td>\n",
              "      <td>6.2</td>\n",
              "      <td>6</td>\n",
              "      <td>60</td>\n",
              "      <td>8</td>\n",
              "      <td>Normal</td>\n",
              "      <td>125/80</td>\n",
              "      <td>75</td>\n",
              "      <td>10000</td>\n",
              "      <td>None</td>\n",
              "    </tr>\n",
              "    <tr>\n",
              "      <th>2</th>\n",
              "      <td>3</td>\n",
              "      <td>Male</td>\n",
              "      <td>28</td>\n",
              "      <td>Doctor</td>\n",
              "      <td>6.2</td>\n",
              "      <td>6</td>\n",
              "      <td>60</td>\n",
              "      <td>8</td>\n",
              "      <td>Normal</td>\n",
              "      <td>125/80</td>\n",
              "      <td>75</td>\n",
              "      <td>10000</td>\n",
              "      <td>None</td>\n",
              "    </tr>\n",
              "    <tr>\n",
              "      <th>3</th>\n",
              "      <td>4</td>\n",
              "      <td>Male</td>\n",
              "      <td>28</td>\n",
              "      <td>Sales Representative</td>\n",
              "      <td>5.9</td>\n",
              "      <td>4</td>\n",
              "      <td>30</td>\n",
              "      <td>8</td>\n",
              "      <td>Obese</td>\n",
              "      <td>140/90</td>\n",
              "      <td>85</td>\n",
              "      <td>3000</td>\n",
              "      <td>Sleep Apnea</td>\n",
              "    </tr>\n",
              "    <tr>\n",
              "      <th>4</th>\n",
              "      <td>5</td>\n",
              "      <td>Male</td>\n",
              "      <td>28</td>\n",
              "      <td>Sales Representative</td>\n",
              "      <td>5.9</td>\n",
              "      <td>4</td>\n",
              "      <td>30</td>\n",
              "      <td>8</td>\n",
              "      <td>Obese</td>\n",
              "      <td>140/90</td>\n",
              "      <td>85</td>\n",
              "      <td>3000</td>\n",
              "      <td>Sleep Apnea</td>\n",
              "    </tr>\n",
              "    <tr>\n",
              "      <th>...</th>\n",
              "      <td>...</td>\n",
              "      <td>...</td>\n",
              "      <td>...</td>\n",
              "      <td>...</td>\n",
              "      <td>...</td>\n",
              "      <td>...</td>\n",
              "      <td>...</td>\n",
              "      <td>...</td>\n",
              "      <td>...</td>\n",
              "      <td>...</td>\n",
              "      <td>...</td>\n",
              "      <td>...</td>\n",
              "      <td>...</td>\n",
              "    </tr>\n",
              "    <tr>\n",
              "      <th>369</th>\n",
              "      <td>370</td>\n",
              "      <td>Female</td>\n",
              "      <td>59</td>\n",
              "      <td>Nurse</td>\n",
              "      <td>8.1</td>\n",
              "      <td>9</td>\n",
              "      <td>75</td>\n",
              "      <td>3</td>\n",
              "      <td>Overweight</td>\n",
              "      <td>140/95</td>\n",
              "      <td>68</td>\n",
              "      <td>7000</td>\n",
              "      <td>Sleep Apnea</td>\n",
              "    </tr>\n",
              "    <tr>\n",
              "      <th>370</th>\n",
              "      <td>371</td>\n",
              "      <td>Female</td>\n",
              "      <td>59</td>\n",
              "      <td>Nurse</td>\n",
              "      <td>8.0</td>\n",
              "      <td>9</td>\n",
              "      <td>75</td>\n",
              "      <td>3</td>\n",
              "      <td>Overweight</td>\n",
              "      <td>140/95</td>\n",
              "      <td>68</td>\n",
              "      <td>7000</td>\n",
              "      <td>Sleep Apnea</td>\n",
              "    </tr>\n",
              "    <tr>\n",
              "      <th>371</th>\n",
              "      <td>372</td>\n",
              "      <td>Female</td>\n",
              "      <td>59</td>\n",
              "      <td>Nurse</td>\n",
              "      <td>8.1</td>\n",
              "      <td>9</td>\n",
              "      <td>75</td>\n",
              "      <td>3</td>\n",
              "      <td>Overweight</td>\n",
              "      <td>140/95</td>\n",
              "      <td>68</td>\n",
              "      <td>7000</td>\n",
              "      <td>Sleep Apnea</td>\n",
              "    </tr>\n",
              "    <tr>\n",
              "      <th>372</th>\n",
              "      <td>373</td>\n",
              "      <td>Female</td>\n",
              "      <td>59</td>\n",
              "      <td>Nurse</td>\n",
              "      <td>8.1</td>\n",
              "      <td>9</td>\n",
              "      <td>75</td>\n",
              "      <td>3</td>\n",
              "      <td>Overweight</td>\n",
              "      <td>140/95</td>\n",
              "      <td>68</td>\n",
              "      <td>7000</td>\n",
              "      <td>Sleep Apnea</td>\n",
              "    </tr>\n",
              "    <tr>\n",
              "      <th>373</th>\n",
              "      <td>374</td>\n",
              "      <td>Female</td>\n",
              "      <td>59</td>\n",
              "      <td>Nurse</td>\n",
              "      <td>8.1</td>\n",
              "      <td>9</td>\n",
              "      <td>75</td>\n",
              "      <td>3</td>\n",
              "      <td>Overweight</td>\n",
              "      <td>140/95</td>\n",
              "      <td>68</td>\n",
              "      <td>7000</td>\n",
              "      <td>Sleep Apnea</td>\n",
              "    </tr>\n",
              "  </tbody>\n",
              "</table>\n",
              "<p>374 rows × 13 columns</p>\n",
              "</div>\n",
              "    <div class=\"colab-df-buttons\">\n",
              "\n",
              "  <div class=\"colab-df-container\">\n",
              "    <button class=\"colab-df-convert\" onclick=\"convertToInteractive('df-bd2e0178-c3e5-4946-80ea-0b59abdf8317')\"\n",
              "            title=\"Convert this dataframe to an interactive table.\"\n",
              "            style=\"display:none;\">\n",
              "\n",
              "  <svg xmlns=\"http://www.w3.org/2000/svg\" height=\"24px\" viewBox=\"0 -960 960 960\">\n",
              "    <path d=\"M120-120v-720h720v720H120Zm60-500h600v-160H180v160Zm220 220h160v-160H400v160Zm0 220h160v-160H400v160ZM180-400h160v-160H180v160Zm440 0h160v-160H620v160ZM180-180h160v-160H180v160Zm440 0h160v-160H620v160Z\"/>\n",
              "  </svg>\n",
              "    </button>\n",
              "\n",
              "  <style>\n",
              "    .colab-df-container {\n",
              "      display:flex;\n",
              "      gap: 12px;\n",
              "    }\n",
              "\n",
              "    .colab-df-convert {\n",
              "      background-color: #E8F0FE;\n",
              "      border: none;\n",
              "      border-radius: 50%;\n",
              "      cursor: pointer;\n",
              "      display: none;\n",
              "      fill: #1967D2;\n",
              "      height: 32px;\n",
              "      padding: 0 0 0 0;\n",
              "      width: 32px;\n",
              "    }\n",
              "\n",
              "    .colab-df-convert:hover {\n",
              "      background-color: #E2EBFA;\n",
              "      box-shadow: 0px 1px 2px rgba(60, 64, 67, 0.3), 0px 1px 3px 1px rgba(60, 64, 67, 0.15);\n",
              "      fill: #174EA6;\n",
              "    }\n",
              "\n",
              "    .colab-df-buttons div {\n",
              "      margin-bottom: 4px;\n",
              "    }\n",
              "\n",
              "    [theme=dark] .colab-df-convert {\n",
              "      background-color: #3B4455;\n",
              "      fill: #D2E3FC;\n",
              "    }\n",
              "\n",
              "    [theme=dark] .colab-df-convert:hover {\n",
              "      background-color: #434B5C;\n",
              "      box-shadow: 0px 1px 3px 1px rgba(0, 0, 0, 0.15);\n",
              "      filter: drop-shadow(0px 1px 2px rgba(0, 0, 0, 0.3));\n",
              "      fill: #FFFFFF;\n",
              "    }\n",
              "  </style>\n",
              "\n",
              "    <script>\n",
              "      const buttonEl =\n",
              "        document.querySelector('#df-bd2e0178-c3e5-4946-80ea-0b59abdf8317 button.colab-df-convert');\n",
              "      buttonEl.style.display =\n",
              "        google.colab.kernel.accessAllowed ? 'block' : 'none';\n",
              "\n",
              "      async function convertToInteractive(key) {\n",
              "        const element = document.querySelector('#df-bd2e0178-c3e5-4946-80ea-0b59abdf8317');\n",
              "        const dataTable =\n",
              "          await google.colab.kernel.invokeFunction('convertToInteractive',\n",
              "                                                    [key], {});\n",
              "        if (!dataTable) return;\n",
              "\n",
              "        const docLinkHtml = 'Like what you see? Visit the ' +\n",
              "          '<a target=\"_blank\" href=https://colab.research.google.com/notebooks/data_table.ipynb>data table notebook</a>'\n",
              "          + ' to learn more about interactive tables.';\n",
              "        element.innerHTML = '';\n",
              "        dataTable['output_type'] = 'display_data';\n",
              "        await google.colab.output.renderOutput(dataTable, element);\n",
              "        const docLink = document.createElement('div');\n",
              "        docLink.innerHTML = docLinkHtml;\n",
              "        element.appendChild(docLink);\n",
              "      }\n",
              "    </script>\n",
              "  </div>\n",
              "\n",
              "\n",
              "<div id=\"df-f4f16520-61af-4e53-8da8-b386adf9d7d7\">\n",
              "  <button class=\"colab-df-quickchart\" onclick=\"quickchart('df-f4f16520-61af-4e53-8da8-b386adf9d7d7')\"\n",
              "            title=\"Suggest charts.\"\n",
              "            style=\"display:none;\">\n",
              "\n",
              "<svg xmlns=\"http://www.w3.org/2000/svg\" height=\"24px\"viewBox=\"0 0 24 24\"\n",
              "     width=\"24px\">\n",
              "    <g>\n",
              "        <path d=\"M19 3H5c-1.1 0-2 .9-2 2v14c0 1.1.9 2 2 2h14c1.1 0 2-.9 2-2V5c0-1.1-.9-2-2-2zM9 17H7v-7h2v7zm4 0h-2V7h2v10zm4 0h-2v-4h2v4z\"/>\n",
              "    </g>\n",
              "</svg>\n",
              "  </button>\n",
              "\n",
              "<style>\n",
              "  .colab-df-quickchart {\n",
              "      --bg-color: #E8F0FE;\n",
              "      --fill-color: #1967D2;\n",
              "      --hover-bg-color: #E2EBFA;\n",
              "      --hover-fill-color: #174EA6;\n",
              "      --disabled-fill-color: #AAA;\n",
              "      --disabled-bg-color: #DDD;\n",
              "  }\n",
              "\n",
              "  [theme=dark] .colab-df-quickchart {\n",
              "      --bg-color: #3B4455;\n",
              "      --fill-color: #D2E3FC;\n",
              "      --hover-bg-color: #434B5C;\n",
              "      --hover-fill-color: #FFFFFF;\n",
              "      --disabled-bg-color: #3B4455;\n",
              "      --disabled-fill-color: #666;\n",
              "  }\n",
              "\n",
              "  .colab-df-quickchart {\n",
              "    background-color: var(--bg-color);\n",
              "    border: none;\n",
              "    border-radius: 50%;\n",
              "    cursor: pointer;\n",
              "    display: none;\n",
              "    fill: var(--fill-color);\n",
              "    height: 32px;\n",
              "    padding: 0;\n",
              "    width: 32px;\n",
              "  }\n",
              "\n",
              "  .colab-df-quickchart:hover {\n",
              "    background-color: var(--hover-bg-color);\n",
              "    box-shadow: 0 1px 2px rgba(60, 64, 67, 0.3), 0 1px 3px 1px rgba(60, 64, 67, 0.15);\n",
              "    fill: var(--button-hover-fill-color);\n",
              "  }\n",
              "\n",
              "  .colab-df-quickchart-complete:disabled,\n",
              "  .colab-df-quickchart-complete:disabled:hover {\n",
              "    background-color: var(--disabled-bg-color);\n",
              "    fill: var(--disabled-fill-color);\n",
              "    box-shadow: none;\n",
              "  }\n",
              "\n",
              "  .colab-df-spinner {\n",
              "    border: 2px solid var(--fill-color);\n",
              "    border-color: transparent;\n",
              "    border-bottom-color: var(--fill-color);\n",
              "    animation:\n",
              "      spin 1s steps(1) infinite;\n",
              "  }\n",
              "\n",
              "  @keyframes spin {\n",
              "    0% {\n",
              "      border-color: transparent;\n",
              "      border-bottom-color: var(--fill-color);\n",
              "      border-left-color: var(--fill-color);\n",
              "    }\n",
              "    20% {\n",
              "      border-color: transparent;\n",
              "      border-left-color: var(--fill-color);\n",
              "      border-top-color: var(--fill-color);\n",
              "    }\n",
              "    30% {\n",
              "      border-color: transparent;\n",
              "      border-left-color: var(--fill-color);\n",
              "      border-top-color: var(--fill-color);\n",
              "      border-right-color: var(--fill-color);\n",
              "    }\n",
              "    40% {\n",
              "      border-color: transparent;\n",
              "      border-right-color: var(--fill-color);\n",
              "      border-top-color: var(--fill-color);\n",
              "    }\n",
              "    60% {\n",
              "      border-color: transparent;\n",
              "      border-right-color: var(--fill-color);\n",
              "    }\n",
              "    80% {\n",
              "      border-color: transparent;\n",
              "      border-right-color: var(--fill-color);\n",
              "      border-bottom-color: var(--fill-color);\n",
              "    }\n",
              "    90% {\n",
              "      border-color: transparent;\n",
              "      border-bottom-color: var(--fill-color);\n",
              "    }\n",
              "  }\n",
              "</style>\n",
              "\n",
              "  <script>\n",
              "    async function quickchart(key) {\n",
              "      const quickchartButtonEl =\n",
              "        document.querySelector('#' + key + ' button');\n",
              "      quickchartButtonEl.disabled = true;  // To prevent multiple clicks.\n",
              "      quickchartButtonEl.classList.add('colab-df-spinner');\n",
              "      try {\n",
              "        const charts = await google.colab.kernel.invokeFunction(\n",
              "            'suggestCharts', [key], {});\n",
              "      } catch (error) {\n",
              "        console.error('Error during call to suggestCharts:', error);\n",
              "      }\n",
              "      quickchartButtonEl.classList.remove('colab-df-spinner');\n",
              "      quickchartButtonEl.classList.add('colab-df-quickchart-complete');\n",
              "    }\n",
              "    (() => {\n",
              "      let quickchartButtonEl =\n",
              "        document.querySelector('#df-f4f16520-61af-4e53-8da8-b386adf9d7d7 button');\n",
              "      quickchartButtonEl.style.display =\n",
              "        google.colab.kernel.accessAllowed ? 'block' : 'none';\n",
              "    })();\n",
              "  </script>\n",
              "</div>\n",
              "    </div>\n",
              "  </div>\n"
            ]
          },
          "metadata": {},
          "execution_count": 101
        }
      ]
    },
    {
      "cell_type": "code",
      "source": [
        "### Check for Missing Values\n",
        "missing_values = df.isnull().sum()\n",
        "print(missing_values)"
      ],
      "metadata": {
        "id": "cioUTi1a30UL",
        "colab": {
          "base_uri": "https://localhost:8080/"
        },
        "outputId": "bbff1376-55be-4e74-95ca-0d05f41b308c"
      },
      "execution_count": 107,
      "outputs": [
        {
          "output_type": "stream",
          "name": "stdout",
          "text": [
            "person_id                  0\n",
            "gender                     0\n",
            "age                        0\n",
            "occupation                 0\n",
            "sleep_duration             0\n",
            "quality_of_sleep           0\n",
            "physical_activity_level    0\n",
            "stress_level               0\n",
            "bmi_category               0\n",
            "blood_pressure             0\n",
            "heart_rate                 0\n",
            "daily_steps                0\n",
            "sleep_disorder             0\n",
            "dtype: int64\n"
          ]
        }
      ]
    },
    {
      "cell_type": "code",
      "source": [
        "### Column names\n",
        "df.columns"
      ],
      "metadata": {
        "id": "cJl6Ze9U5Fyf",
        "colab": {
          "base_uri": "https://localhost:8080/"
        },
        "outputId": "84957d89-74c4-404b-cb61-0adf1eedd91c"
      },
      "execution_count": 108,
      "outputs": [
        {
          "output_type": "execute_result",
          "data": {
            "text/plain": [
              "Index(['person_id', 'gender', 'age', 'occupation', 'sleep_duration',\n",
              "       'quality_of_sleep', 'physical_activity_level', 'stress_level',\n",
              "       'bmi_category', 'blood_pressure', 'heart_rate', 'daily_steps',\n",
              "       'sleep_disorder'],\n",
              "      dtype='object')"
            ]
          },
          "metadata": {},
          "execution_count": 108
        }
      ]
    },
    {
      "cell_type": "code",
      "source": [
        "import re\n",
        "import numpy"
      ],
      "metadata": {
        "id": "6M5y-2Rc4P75"
      },
      "execution_count": 109,
      "outputs": []
    },
    {
      "cell_type": "code",
      "source": [
        "# Function to remove white space and special characters from a value\n",
        "def clean_column_names(data):\n",
        "  def clean_name(value):\n",
        "    cleaned_name = re.sub(r'[^a-zA-Z0-9$()]', '_', value)\n",
        "    return cleaned_name.lower()\n",
        "\n",
        "# Applying function for all columns\n",
        "  data.columns = [clean_name(col) for col in data.columns]\n",
        "  return data\n",
        "\n",
        "df = clean_column_names(df)"
      ],
      "metadata": {
        "id": "kLdnKRw04Ni4"
      },
      "execution_count": 110,
      "outputs": []
    },
    {
      "cell_type": "code",
      "source": [
        "df"
      ],
      "metadata": {
        "id": "8C9gdUmB4S2d"
      },
      "execution_count": null,
      "outputs": []
    },
    {
      "cell_type": "markdown",
      "source": [
        "### Multiple Imputation"
      ],
      "metadata": {
        "id": "Hs06UJzy6hnm"
      }
    },
    {
      "cell_type": "code",
      "source": [
        "from sklearn.experimental import enable_iterative_imputer\n",
        "from sklearn.impute import IterativeImputer"
      ],
      "metadata": {
        "id": "DtlESJkG4sgK"
      },
      "execution_count": null,
      "outputs": []
    },
    {
      "cell_type": "code",
      "source": [
        "### Perform multiple imputation\n",
        "imputer = IterativeImputer(max_iter=10, random_state=0)\n",
        "imputed_data = imputer.fit_transform(df[[\"age\", \"sleep_duration\", \"quality_of_sleep\", \"physical_activity_level\"]])\n",
        "### Create a Dataframe with imputed values\n",
        "imputed_df = pd.DataFrame(imputed_data, columns=[\"age\", \"sleep_duration\", \"quality_of_sleep\", \"physical_activity_level\"])\n",
        "### Combine imputed values with original dataset\n",
        "sleep_and_physical_activity_df = pd.concat([df[\"gender\"], imputed_df], axis =1)"
      ],
      "metadata": {
        "id": "jPjzdGXK4wQj"
      },
      "execution_count": null,
      "outputs": []
    },
    {
      "cell_type": "code",
      "source": [
        "print(\"\\nDataFrame with Imputed Values:\")\n",
        "print(sleep_and_physical_activity_df)"
      ],
      "metadata": {
        "id": "MTGaOgeW5Kwm"
      },
      "execution_count": null,
      "outputs": []
    },
    {
      "cell_type": "code",
      "source": [
        "sleep_and_physical_activity_df.describe()"
      ],
      "metadata": {
        "id": "h6FXEK1M5bnT"
      },
      "execution_count": null,
      "outputs": []
    },
    {
      "cell_type": "markdown",
      "source": [
        "### Distribution of Variables"
      ],
      "metadata": {
        "id": "cEH5k5ImFVn0"
      }
    },
    {
      "cell_type": "code",
      "source": [
        "# Calculate mean, median, and mode of a health metric\n",
        "mean_value_sleep_duration = df['sleep_duration'].mean()\n",
        "median_value_heart_rate = df['heart_rate'].median()\n",
        "mode_value_stress_level = df['stress_level'].mode().iloc[0]\n",
        "\n",
        "# Calculatre variance and standard deviation for sleep duration\n",
        "variance_sd = np.var(df['sleep_duration'])\n",
        "std_deviation_sd = np.std(df['sleep_duration'])\n",
        "\n",
        "# Calculate percentiles for stress level\n",
        "percentile_25_stress = np.percentile(df['stress_level'], 25)\n",
        "percentile_75_stress = np.percentile(df['stress_level'], 75)\n",
        "\n",
        "# Calculate range for Age\n",
        "data_age_range = df['age'].max() - df['age'].min()\n",
        "\n",
        "# Calculate correlation and covariance\n",
        "correlation_matrix_1 = df[['bmi_category', 'sleep_duration', 'heart_rate']].corr(numeric_only=True)\n",
        "covariance_matrix_2 = df[['physical_activity_level', 'daily_steps', 'sleep_disorder']].corr(numeric_only=True)\n",
        "\n",
        "# Print results\n",
        "print(\"Mean Sleep Duration:\", mean_value_sleep_duration)\n",
        "print(\"Median Heart Rate:\", median_value_heart_rate)\n",
        "print(\"Mode Stress Level:\", mode_value_stress_level)\n",
        "print(\"Variance Sleep Duration:\", variance_sd)\n",
        "print(\"Standard Deviation Sleep Duration:\", std_deviation_sd)\n",
        "print(\"25th Percentile Stress:\", percentile_25_stress)\n",
        "print(\"75th Percentile Stress:\", percentile_75_stress)\n",
        "print(\"Data Range (Age):\", data_age_range)\n",
        "print(\"Correlation Matrix 1:\\n\", correlation_matrix_1)\n",
        "print(\"Covariance Matrix 2:\\n\", covariance_matrix_2)"
      ],
      "metadata": {
        "colab": {
          "base_uri": "https://localhost:8080/"
        },
        "id": "0oTZU5G3FkT7",
        "outputId": "e0400380-d442-4a0e-ff36-fc99893af880"
      },
      "execution_count": 120,
      "outputs": [
        {
          "output_type": "stream",
          "name": "stdout",
          "text": [
            "Mean Sleep Duration: 7.132085561497325\n",
            "Median Heart Rate: 70.0\n",
            "Mode Stress Level: 3\n",
            "Variance Sleep Duration: 0.6313769338557008\n",
            "Standard Deviation Sleep Duration: 0.7945923066929989\n",
            "25th Percentile Stress: 4.0\n",
            "75th Percentile Stress: 7.0\n",
            "Data Range (Age): 32\n",
            "Correlation Matrix 1:\n",
            "                 sleep_duration  heart_rate\n",
            "sleep_duration        1.000000   -0.516455\n",
            "heart_rate           -0.516455    1.000000\n",
            "Covariance Matrix 2:\n",
            "                          physical_activity_level  daily_steps\n",
            "physical_activity_level                 1.000000     0.772723\n",
            "daily_steps                             0.772723     1.000000\n"
          ]
        }
      ]
    },
    {
      "cell_type": "markdown",
      "source": [
        "### Visualizing Distributions"
      ],
      "metadata": {
        "id": "OVt4oxTpKPgC"
      }
    },
    {
      "cell_type": "code",
      "source": [
        "import matplotlib.pyplot as plt\n",
        "import seaborn as sns"
      ],
      "metadata": {
        "id": "fbl0X5psKXUz"
      },
      "execution_count": 137,
      "outputs": []
    },
    {
      "cell_type": "code",
      "source": [
        "# Create a histogram\n",
        "sns.histplot(df['age'], bins=10, kde=True)\n",
        "plt.xlabel('age')\n",
        "plt.ylabel('Frequency')\n",
        "plt.title('age Distribution')\n",
        "plt.show()"
      ],
      "metadata": {
        "id": "xDIULe0YKTlc"
      },
      "execution_count": null,
      "outputs": []
    },
    {
      "cell_type": "markdown",
      "source": [
        "### Histograms"
      ],
      "metadata": {
        "id": "zFbtLHcdHxte"
      }
    },
    {
      "cell_type": "code",
      "source": [
        "import matplotlib.pyplot as plt"
      ],
      "metadata": {
        "id": "uHXiK3EBH0d-"
      },
      "execution_count": 121,
      "outputs": []
    },
    {
      "cell_type": "code",
      "source": [
        "plt.hist(df['heart_rate'], bins=30, density=True, alpha=0.7, color='red', label='Histogram')\n",
        "plt.title('Probability Density for Heart Rate')\n",
        "plt.xlabel('Value')\n",
        "plt.ylabel('Probability Density')\n",
        "plt.legend()\n",
        "plt.grid(True)\n",
        "plt.show()"
      ],
      "metadata": {
        "id": "oHjNjMtxH3_2"
      },
      "execution_count": null,
      "outputs": []
    },
    {
      "cell_type": "code",
      "source": [
        "plt.hist(df['physical_activity_level'], bins=30, density=True, alpha=0.5, color='red', label='Histogram')\n",
        "plt.title('Probability Density for Physical Activity Levels')\n",
        "plt.xlabel('Value')\n",
        "plt.ylabel('Probability Density')\n",
        "plt.legend()\n",
        "plt.grid(True)\n",
        "plt.show()"
      ],
      "metadata": {
        "id": "2wtrGeS0JwRY"
      },
      "execution_count": null,
      "outputs": []
    },
    {
      "cell_type": "markdown",
      "source": [
        "### Shapiro-Wilk Test for Normality"
      ],
      "metadata": {
        "id": "fuRGtU9kKjy4"
      }
    },
    {
      "cell_type": "code",
      "source": [
        "from scipy.stats import shapiro"
      ],
      "metadata": {
        "id": "yIRJVeyMKqS4"
      },
      "execution_count": 141,
      "outputs": []
    },
    {
      "cell_type": "code",
      "source": [
        "stat, p = shapiro(df['heart_rate'])\n",
        "if p > 0.05:\n",
        "    print(\"Heart Rate Data follows a normal distribution.\")\n",
        "else:\n",
        "    print(\"Heart Rata Data does not follow a normal distribution.\")"
      ],
      "metadata": {
        "colab": {
          "base_uri": "https://localhost:8080/"
        },
        "id": "LTGd0uKQKqOB",
        "outputId": "3d2d05f3-0968-4f04-ca2d-db5ebb650d98"
      },
      "execution_count": 142,
      "outputs": [
        {
          "output_type": "stream",
          "name": "stdout",
          "text": [
            "Heart Rata Data does not follow a normal distribution.\n"
          ]
        }
      ]
    },
    {
      "cell_type": "markdown",
      "source": [
        "## Bivariate Analysis:\n",
        "1. Analyze the relationship between pairs of variables.\n",
        "2. Use scatter plots to explore potential relationships between two numerical variables.\n",
        "3. For categorical and numerical variable pairs, use boxplots.\n",
        "4. Compute correlation coefficients for numerical variables and document any strong correlations observed."
      ],
      "metadata": {
        "id": "9_7GQL_U8IEO"
      }
    },
    {
      "cell_type": "markdown",
      "source": [
        "### Scatter Plots"
      ],
      "metadata": {
        "id": "h5XwZ7pF8At9"
      }
    },
    {
      "cell_type": "code",
      "source": [
        "import matplotlib.pyplot as plt\n",
        "import seaborn as sns"
      ],
      "metadata": {
        "id": "XtyBlfp66sVB"
      },
      "execution_count": null,
      "outputs": []
    },
    {
      "cell_type": "code",
      "source": [
        "### Create Scatterplot for Sleep Duration\n",
        "selected_patient_ids = [0, 1, 2, 3, 4, 5, 6, 7, 8, 9, 10, 11, 12]\n",
        "sleep_duration = df['sleep_duration']\n",
        "plt.figure(figsize=(8, 6))\n",
        "sns.scatterplot(x=df['person_id'].iloc[selected_patient_ids], y=sleep_duration.iloc[selected_patient_ids])\n",
        "plt.xlabel(\"patient_id\")\n",
        "plt.ylabel(\"sleep_duration\")\n",
        "plt.title(\"Scatter Plot of Sleep Duration\")\n",
        "plt.show()"
      ],
      "metadata": {
        "colab": {
          "base_uri": "https://localhost:8080/",
          "height": 564
        },
        "id": "DCvm-rfY6xwm",
        "outputId": "826c427c-0ebe-479e-9bb1-d31f5f836bd5"
      },
      "execution_count": null,
      "outputs": [
        {
          "output_type": "display_data",
          "data": {
            "text/plain": [
              "<Figure size 800x600 with 1 Axes>"
            ],
            "image/png": "[encoded data removed]"
          },
          "metadata": {}
        }
      ]
    },
    {
      "cell_type": "code",
      "source": [
        "### Create Scatterplot for Physical Activity and Heart Rate\n",
        "physical_activity_level = df['physical_activity_level']\n",
        "heart_rate = df['heart_rate']\n",
        "plt.figure(figsize=(8, 6))\n",
        "sns.scatterplot(x=df['physical_activity_level'], y=heart_rate)\n",
        "plt.xlabel(\"physical_activity_level\")\n",
        "plt.ylabel(\"heart_rate\")\n",
        "plt.title(\"Scatter Plot of Physical Activity Level Relation to Heart Rate\")\n",
        "plt.show()"
      ],
      "metadata": {
        "colab": {
          "base_uri": "https://localhost:8080/",
          "height": 564
        },
        "id": "cSPfGFL785t5",
        "outputId": "64a01adf-588d-40a3-a2c1-97b49a359d1e"
      },
      "execution_count": null,
      "outputs": [
        {
          "output_type": "display_data",
          "data": {
            "text/plain": [
              "<Figure size 800x600 with 1 Axes>"
            ],
            "image/png": "[encoded data removed]"
          },
          "metadata": {}
        }
      ]
    },
    {
      "cell_type": "markdown",
      "source": [
        "## Handling Outliers:\n",
        "1. Identify outliers in your dataset using the IQR method or visualization tools.\n",
        "2. Decide on an approach to handle these outliers (e.g., remove, replace, or retain) and justify your decision in a markdown cell.\n",
        "3. If there are no outliers based on 1, 2, or 3 standard deviations (or z scores >= 1), please state that and support it with your code.\n"
      ],
      "metadata": {
        "id": "9-zB-k198T9N"
      }
    },
    {
      "cell_type": "markdown",
      "source": [
        "### Z-Score"
      ],
      "metadata": {
        "id": "eC0Oyht77vul"
      }
    },
    {
      "cell_type": "code",
      "source": [
        "from scipy.stats import zscore\n",
        "import numpy as np"
      ],
      "metadata": {
        "id": "PkjWRdqQ72pK"
      },
      "execution_count": null,
      "outputs": []
    },
    {
      "cell_type": "code",
      "source": [
        "### Calculate z-score for heart rate\n",
        "z_scores = zscore(heart_rate)\n",
        "z_scores"
      ],
      "metadata": {
        "id": "17bppnuS_REM"
      },
      "execution_count": null,
      "outputs": []
    },
    {
      "cell_type": "code",
      "source": [
        "### Set threshold for outlier detecion\n",
        "threshold = 2\n",
        "\n",
        "### Identify Outliers\n",
        "outliers = np.where(np.abs(z_scores) > threshold)\n",
        "\n",
        "### Fetch outlier values using identified indices\n",
        "outlier_values = [heart_rate[i] for i in outliers[0]]\n",
        "\n",
        "print(\"Outlier Indices in Array:\", outliers)\n",
        "print(\"Outlier Values:\", outlier_values)"
      ],
      "metadata": {
        "id": "FmuET2I-_pgH"
      },
      "execution_count": null,
      "outputs": []
    },
    {
      "cell_type": "markdown",
      "source": [
        "### IQR (Interquartile Range)"
      ],
      "metadata": {
        "id": "OgM5b2Z-BRwC"
      }
    },
    {
      "cell_type": "code",
      "source": [
        "### Calculate quartiles and IQR\n",
        "q1 = np.percentile(heart_rate, 25)\n",
        "q3 = np.percentile(heart_rate, 75)\n",
        "iqr = q3 - q1\n",
        "\n",
        "### Set threshold for outlier detection\n",
        "threshold_lower = q1 - 1.5 * iqr\n",
        "threshold_upper = q3 +1.5 * iqr\n",
        "\n",
        "### Identify Outliers\n",
        "outlier_iqr = [x for x in heart_rate if x < threshold_lower or x > threshold_upper]\n",
        "print(\"Outliers:\", outlier_iqr)"
      ],
      "metadata": {
        "colab": {
          "base_uri": "https://localhost:8080/"
        },
        "id": "m5yhOBYLBUZE",
        "outputId": "db24cf41-a20b-4132-ba0c-61c1a3b15df2"
      },
      "execution_count": null,
      "outputs": [
        {
          "output_type": "stream",
          "name": "stdout",
          "text": [
            "Outliers: [85, 85, 85, 82, 80, 80, 81, 81, 84, 84, 80, 83, 83, 86, 86]\n"
          ]
        }
      ]
    },
    {
      "cell_type": "code",
      "source": [
        "### Identify Outliers\n",
        "outlier_iqr = [x for x in heart_rate if x < threshold_lower or x > threshold_upper]\n",
        "print(\"Outliers:\", outlier_iqr)"
      ],
      "metadata": {
        "colab": {
          "base_uri": "https://localhost:8080/"
        },
        "id": "5XNgWVzYBu9i",
        "outputId": "d3b5e65f-d207-4218-e121-8dd9ea11c19e"
      },
      "execution_count": null,
      "outputs": [
        {
          "output_type": "stream",
          "name": "stdout",
          "text": [
            "Outliers: [85, 85, 85, 82, 80, 80, 81, 81, 84, 84, 80, 83, 83, 86, 86]\n"
          ]
        }
      ]
    },
    {
      "cell_type": "markdown",
      "source": [
        "#### Handling Outliers:\n",
        "The outliers detected using z-score and IQR are the same: 85, 85, 85, 82, 80, 80, 81, 81, 84, 84, 80, 83, 83, 86, 86. These are still in the normal range for human heart rate. However, these results could be a result of data entry errors or measurement issues, so removing them could improve the quality of the data."
      ],
      "metadata": {
        "id": "kvZqQRLECEEL"
      }
    },
    {
      "cell_type": "markdown",
      "source": [
        "### Removing outliers"
      ],
      "metadata": {
        "id": "OOi15CteEDfU"
      }
    },
    {
      "cell_type": "code",
      "source": [
        "heart_rate_threshold = 79\n",
        "\n",
        "#Remove data above the heart rate threshold\n",
        "df_cleaned = df[df['heart_rate'] <= heart_rate_threshold]\n",
        "\n",
        "print(df_cleaned)"
      ],
      "metadata": {
        "colab": {
          "base_uri": "https://localhost:8080/"
        },
        "id": "WrkYdRokEEz5",
        "outputId": "905fc714-149c-41b3-dbba-46af5506bbca"
      },
      "execution_count": null,
      "outputs": [
        {
          "output_type": "stream",
          "name": "stdout",
          "text": [
            "     person_id  gender  age         occupation  sleep_duration  \\\n",
            "0            1    Male   27  Software Engineer             6.1   \n",
            "1            2    Male   28             Doctor             6.2   \n",
            "2            3    Male   28             Doctor             6.2   \n",
            "7            8    Male   29             Doctor             7.8   \n",
            "8            9    Male   29             Doctor             7.8   \n",
            "..         ...     ...  ...                ...             ...   \n",
            "369        370  Female   59              Nurse             8.1   \n",
            "370        371  Female   59              Nurse             8.0   \n",
            "371        372  Female   59              Nurse             8.1   \n",
            "372        373  Female   59              Nurse             8.1   \n",
            "373        374  Female   59              Nurse             8.1   \n",
            "\n",
            "     quality_of_sleep  physical_activity_level  stress_level bmi_category  \\\n",
            "0                   6                       42             6   Overweight   \n",
            "1                   6                       60             8       Normal   \n",
            "2                   6                       60             8       Normal   \n",
            "7                   7                       75             6       Normal   \n",
            "8                   7                       75             6       Normal   \n",
            "..                ...                      ...           ...          ...   \n",
            "369                 9                       75             3   Overweight   \n",
            "370                 9                       75             3   Overweight   \n",
            "371                 9                       75             3   Overweight   \n",
            "372                 9                       75             3   Overweight   \n",
            "373                 9                       75             3   Overweight   \n",
            "\n",
            "    blood_pressure  heart_rate  daily_steps sleep_disorder  \n",
            "0           126/83          77         4200           None  \n",
            "1           125/80          75        10000           None  \n",
            "2           125/80          75        10000           None  \n",
            "7           120/80          70         8000           None  \n",
            "8           120/80          70         8000           None  \n",
            "..             ...         ...          ...            ...  \n",
            "369         140/95          68         7000    Sleep Apnea  \n",
            "370         140/95          68         7000    Sleep Apnea  \n",
            "371         140/95          68         7000    Sleep Apnea  \n",
            "372         140/95          68         7000    Sleep Apnea  \n",
            "373         140/95          68         7000    Sleep Apnea  \n",
            "\n",
            "[359 rows x 13 columns]\n"
          ]
        }
      ]
    },
    {
      "cell_type": "code",
      "source": [
        "### Save csv as sleep_lifestyle_cleaned.csv\n",
        "df.to_csv('sleep_lifestyle_cleaned.csv')"
      ],
      "metadata": {
        "id": "dKUOi5EcEmbS"
      },
      "execution_count": null,
      "outputs": []
    },
    {
      "cell_type": "markdown",
      "source": [
        "## Automated Analysis\n",
        "1. Using the automated EDA tool pandas profiling (e.g., please refer to https://book.datascience.appliedhealthinformatics.com/docs/Ch3/automatic_EDA)\n",
        "2. Load in your dataset and analyze it\n",
        "3. Save the output (.html) in your report, within a folder called automaticEDA"
      ],
      "metadata": {
        "id": "rgDPiBQA8faB"
      }
    }
  ]
}